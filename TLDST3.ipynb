{
 "cells": [
  {
   "cell_type": "code",
   "execution_count": null,
   "id": "1009ac98-f50f-4e99-9c60-5693877bab9d",
   "metadata": {},
   "outputs": [],
   "source": [
    "CASE STUDY: 01\n",
    "WORKFLOW AUTOMATION OPTIMIZATION"
   ]
  },
  {
   "cell_type": "code",
   "execution_count": 1,
   "id": "6571347e-7afa-4e06-9750-8efc280645e4",
   "metadata": {},
   "outputs": [
    {
     "data": {
      "text/html": [
       "<div>\n",
       "<style scoped>\n",
       "    .dataframe tbody tr th:only-of-type {\n",
       "        vertical-align: middle;\n",
       "    }\n",
       "\n",
       "    .dataframe tbody tr th {\n",
       "        vertical-align: top;\n",
       "    }\n",
       "\n",
       "    .dataframe thead th {\n",
       "        text-align: right;\n",
       "    }\n",
       "</style>\n",
       "<table border=\"1\" class=\"dataframe\">\n",
       "  <thead>\n",
       "    <tr style=\"text-align: right;\">\n",
       "      <th></th>\n",
       "      <th>Age</th>\n",
       "      <th>Attrition</th>\n",
       "      <th>BusinessTravel</th>\n",
       "      <th>DailyRate</th>\n",
       "      <th>Department</th>\n",
       "      <th>DistanceFromHome</th>\n",
       "      <th>Education</th>\n",
       "      <th>EducationField</th>\n",
       "      <th>EmployeeCount</th>\n",
       "      <th>EmployeeNumber</th>\n",
       "      <th>...</th>\n",
       "      <th>RelationshipSatisfaction</th>\n",
       "      <th>StandardHours</th>\n",
       "      <th>StockOptionLevel</th>\n",
       "      <th>TotalWorkingYears</th>\n",
       "      <th>TrainingTimesLastYear</th>\n",
       "      <th>WorkLifeBalance</th>\n",
       "      <th>YearsAtCompany</th>\n",
       "      <th>YearsInCurrentRole</th>\n",
       "      <th>YearsSinceLastPromotion</th>\n",
       "      <th>YearsWithCurrManager</th>\n",
       "    </tr>\n",
       "  </thead>\n",
       "  <tbody>\n",
       "    <tr>\n",
       "      <th>0</th>\n",
       "      <td>41</td>\n",
       "      <td>Yes</td>\n",
       "      <td>Travel_Rarely</td>\n",
       "      <td>1102</td>\n",
       "      <td>Sales</td>\n",
       "      <td>1</td>\n",
       "      <td>2</td>\n",
       "      <td>Life Sciences</td>\n",
       "      <td>1</td>\n",
       "      <td>1</td>\n",
       "      <td>...</td>\n",
       "      <td>1</td>\n",
       "      <td>80</td>\n",
       "      <td>0</td>\n",
       "      <td>8</td>\n",
       "      <td>0</td>\n",
       "      <td>1</td>\n",
       "      <td>6</td>\n",
       "      <td>4</td>\n",
       "      <td>0</td>\n",
       "      <td>5</td>\n",
       "    </tr>\n",
       "    <tr>\n",
       "      <th>1</th>\n",
       "      <td>49</td>\n",
       "      <td>No</td>\n",
       "      <td>Travel_Frequently</td>\n",
       "      <td>279</td>\n",
       "      <td>Research &amp; Development</td>\n",
       "      <td>8</td>\n",
       "      <td>1</td>\n",
       "      <td>Life Sciences</td>\n",
       "      <td>1</td>\n",
       "      <td>2</td>\n",
       "      <td>...</td>\n",
       "      <td>4</td>\n",
       "      <td>80</td>\n",
       "      <td>1</td>\n",
       "      <td>10</td>\n",
       "      <td>3</td>\n",
       "      <td>3</td>\n",
       "      <td>10</td>\n",
       "      <td>7</td>\n",
       "      <td>1</td>\n",
       "      <td>7</td>\n",
       "    </tr>\n",
       "    <tr>\n",
       "      <th>2</th>\n",
       "      <td>37</td>\n",
       "      <td>Yes</td>\n",
       "      <td>Travel_Rarely</td>\n",
       "      <td>1373</td>\n",
       "      <td>Research &amp; Development</td>\n",
       "      <td>2</td>\n",
       "      <td>2</td>\n",
       "      <td>Other</td>\n",
       "      <td>1</td>\n",
       "      <td>4</td>\n",
       "      <td>...</td>\n",
       "      <td>2</td>\n",
       "      <td>80</td>\n",
       "      <td>0</td>\n",
       "      <td>7</td>\n",
       "      <td>3</td>\n",
       "      <td>3</td>\n",
       "      <td>0</td>\n",
       "      <td>0</td>\n",
       "      <td>0</td>\n",
       "      <td>0</td>\n",
       "    </tr>\n",
       "    <tr>\n",
       "      <th>3</th>\n",
       "      <td>33</td>\n",
       "      <td>No</td>\n",
       "      <td>Travel_Frequently</td>\n",
       "      <td>1392</td>\n",
       "      <td>Research &amp; Development</td>\n",
       "      <td>3</td>\n",
       "      <td>4</td>\n",
       "      <td>Life Sciences</td>\n",
       "      <td>1</td>\n",
       "      <td>5</td>\n",
       "      <td>...</td>\n",
       "      <td>3</td>\n",
       "      <td>80</td>\n",
       "      <td>0</td>\n",
       "      <td>8</td>\n",
       "      <td>3</td>\n",
       "      <td>3</td>\n",
       "      <td>8</td>\n",
       "      <td>7</td>\n",
       "      <td>3</td>\n",
       "      <td>0</td>\n",
       "    </tr>\n",
       "    <tr>\n",
       "      <th>4</th>\n",
       "      <td>27</td>\n",
       "      <td>No</td>\n",
       "      <td>Travel_Rarely</td>\n",
       "      <td>591</td>\n",
       "      <td>Research &amp; Development</td>\n",
       "      <td>2</td>\n",
       "      <td>1</td>\n",
       "      <td>Medical</td>\n",
       "      <td>1</td>\n",
       "      <td>7</td>\n",
       "      <td>...</td>\n",
       "      <td>4</td>\n",
       "      <td>80</td>\n",
       "      <td>1</td>\n",
       "      <td>6</td>\n",
       "      <td>3</td>\n",
       "      <td>3</td>\n",
       "      <td>2</td>\n",
       "      <td>2</td>\n",
       "      <td>2</td>\n",
       "      <td>2</td>\n",
       "    </tr>\n",
       "  </tbody>\n",
       "</table>\n",
       "<p>5 rows × 35 columns</p>\n",
       "</div>"
      ],
      "text/plain": [
       "   Age Attrition     BusinessTravel  DailyRate              Department  \\\n",
       "0   41       Yes      Travel_Rarely       1102                   Sales   \n",
       "1   49        No  Travel_Frequently        279  Research & Development   \n",
       "2   37       Yes      Travel_Rarely       1373  Research & Development   \n",
       "3   33        No  Travel_Frequently       1392  Research & Development   \n",
       "4   27        No      Travel_Rarely        591  Research & Development   \n",
       "\n",
       "   DistanceFromHome  Education EducationField  EmployeeCount  EmployeeNumber  \\\n",
       "0                 1          2  Life Sciences              1               1   \n",
       "1                 8          1  Life Sciences              1               2   \n",
       "2                 2          2          Other              1               4   \n",
       "3                 3          4  Life Sciences              1               5   \n",
       "4                 2          1        Medical              1               7   \n",
       "\n",
       "   ...  RelationshipSatisfaction StandardHours  StockOptionLevel  \\\n",
       "0  ...                         1            80                 0   \n",
       "1  ...                         4            80                 1   \n",
       "2  ...                         2            80                 0   \n",
       "3  ...                         3            80                 0   \n",
       "4  ...                         4            80                 1   \n",
       "\n",
       "   TotalWorkingYears  TrainingTimesLastYear WorkLifeBalance  YearsAtCompany  \\\n",
       "0                  8                      0               1               6   \n",
       "1                 10                      3               3              10   \n",
       "2                  7                      3               3               0   \n",
       "3                  8                      3               3               8   \n",
       "4                  6                      3               3               2   \n",
       "\n",
       "  YearsInCurrentRole  YearsSinceLastPromotion  YearsWithCurrManager  \n",
       "0                  4                        0                     5  \n",
       "1                  7                        1                     7  \n",
       "2                  0                        0                     0  \n",
       "3                  7                        3                     0  \n",
       "4                  2                        2                     2  \n",
       "\n",
       "[5 rows x 35 columns]"
      ]
     },
     "execution_count": 1,
     "metadata": {},
     "output_type": "execute_result"
    }
   ],
   "source": [
    "import pandas as pd\n",
    "df = pd.read_csv(r'C:\\Users\\Anusha\\Downloads\\WA_Fn-UseC_-HR-Employee-Attrition.csv')  #load the dataset\n",
    "df.head()   #display the first few rows of the datasets to understand its structure."
   ]
  },
  {
   "cell_type": "code",
   "execution_count": 2,
   "id": "fe339a33-0dab-40f3-89ef-b53d3e18c44f",
   "metadata": {},
   "outputs": [
    {
     "name": "stdout",
     "output_type": "stream",
     "text": [
      "<class 'pandas.core.frame.DataFrame'>\n",
      "RangeIndex: 1470 entries, 0 to 1469\n",
      "Data columns (total 35 columns):\n",
      " #   Column                    Non-Null Count  Dtype \n",
      "---  ------                    --------------  ----- \n",
      " 0   Age                       1470 non-null   int64 \n",
      " 1   Attrition                 1470 non-null   object\n",
      " 2   BusinessTravel            1470 non-null   object\n",
      " 3   DailyRate                 1470 non-null   int64 \n",
      " 4   Department                1470 non-null   object\n",
      " 5   DistanceFromHome          1470 non-null   int64 \n",
      " 6   Education                 1470 non-null   int64 \n",
      " 7   EducationField            1470 non-null   object\n",
      " 8   EmployeeCount             1470 non-null   int64 \n",
      " 9   EmployeeNumber            1470 non-null   int64 \n",
      " 10  EnvironmentSatisfaction   1470 non-null   int64 \n",
      " 11  Gender                    1470 non-null   object\n",
      " 12  HourlyRate                1470 non-null   int64 \n",
      " 13  JobInvolvement            1470 non-null   int64 \n",
      " 14  JobLevel                  1470 non-null   int64 \n",
      " 15  JobRole                   1470 non-null   object\n",
      " 16  JobSatisfaction           1470 non-null   int64 \n",
      " 17  MaritalStatus             1470 non-null   object\n",
      " 18  MonthlyIncome             1470 non-null   int64 \n",
      " 19  MonthlyRate               1470 non-null   int64 \n",
      " 20  NumCompaniesWorked        1470 non-null   int64 \n",
      " 21  Over18                    1470 non-null   object\n",
      " 22  OverTime                  1470 non-null   object\n",
      " 23  PercentSalaryHike         1470 non-null   int64 \n",
      " 24  PerformanceRating         1470 non-null   int64 \n",
      " 25  RelationshipSatisfaction  1470 non-null   int64 \n",
      " 26  StandardHours             1470 non-null   int64 \n",
      " 27  StockOptionLevel          1470 non-null   int64 \n",
      " 28  TotalWorkingYears         1470 non-null   int64 \n",
      " 29  TrainingTimesLastYear     1470 non-null   int64 \n",
      " 30  WorkLifeBalance           1470 non-null   int64 \n",
      " 31  YearsAtCompany            1470 non-null   int64 \n",
      " 32  YearsInCurrentRole        1470 non-null   int64 \n",
      " 33  YearsSinceLastPromotion   1470 non-null   int64 \n",
      " 34  YearsWithCurrManager      1470 non-null   int64 \n",
      "dtypes: int64(26), object(9)\n",
      "memory usage: 402.1+ KB\n"
     ]
    }
   ],
   "source": [
    "df.info()   #display the column present in the dataset along with counts and data types."
   ]
  },
  {
   "cell_type": "code",
   "execution_count": null,
   "id": "05e7306e-77a5-4fa5-afc7-16574bc79c22",
   "metadata": {},
   "outputs": [],
   "source": [
    "Analyzing Performance Metrics."
   ]
  },
  {
   "cell_type": "code",
   "execution_count": 5,
   "id": "dfd3a650-2184-4383-a5e1-e76e5c7de596",
   "metadata": {},
   "outputs": [],
   "source": [
    "import matplotlib.pyplot as plt\n",
    "import seaborn as sns\n",
    "sns.set(style='whitegrid')   #seting the visualization styles.\n",
    "attrition_rate = df['Attrition'].value_counts(normalize=True)*100    #calculating attrition rates.\n",
    "average_performance_rating = df['PerformanceRating'].mean()  #calulcating the average performance rating.\n",
    "year_at_com = df['YearsAtCompany'].describe()   #calulcating the distribution of years at company.\n",
    "overtime_cou = df['OverTime'].value_counts(normalize=True)*100  #see the trend in overtime"
   ]
  },
  {
   "cell_type": "code",
   "execution_count": 8,
   "id": "308304f3-9573-4c81-a649-216a4ee573fc",
   "metadata": {},
   "outputs": [
    {
     "data": {
      "text/plain": [
       "Text(0, 0.5, 'Percentage')"
      ]
     },
     "execution_count": 8,
     "metadata": {},
     "output_type": "execute_result"
    },
    {
     "data": {
      "image/png": "[encoded data removed]",
      "text/plain": [
       "<Figure size 1000x500 with 1 Axes>"
      ]
     },
     "metadata": {},
     "output_type": "display_data"
    }
   ],
   "source": [
    "plt.figure(figsize=(10,5))\n",
    "sns.barplot(x=attrition_rate.index, y=attrition_rate.values, palette=\"viridis\")\n",
    "plt.title('Attrition Rate')\n",
    "plt.xlabel('Attrition')\n",
    "plt.ylabel('Percentage')    #plotting the attrition rate."
   ]
  },
  {
   "cell_type": "code",
   "execution_count": 20,
   "id": "f671796c-b916-48d3-8430-91f38840e63a",
   "metadata": {},
   "outputs": [
    {
     "name": "stderr",
     "output_type": "stream",
     "text": [
      "C:\\Users\\Anusha\\anaconda3\\Lib\\site-packages\\seaborn\\_oldcore.py:1119: FutureWarning: use_inf_as_na option is deprecated and will be removed in a future version. Convert inf values to NaN before operating instead.\n",
      "  with pd.option_context('mode.use_inf_as_na', True):\n"
     ]
    },
    {
     "data": {
      "text/plain": [
       "Text(0, 0.5, 'Frequency')"
      ]
     },
     "execution_count": 20,
     "metadata": {},
     "output_type": "execute_result"
    },
    {
     "data": {
      "image/png": "[encoded data removed]",
      "text/plain": [
       "<Figure size 1000x500 with 1 Axes>"
      ]
     },
     "metadata": {},
     "output_type": "display_data"
    }
   ],
   "source": [
    "plt.figure(figsize=(10,5))\n",
    "sns.histplot(df['YearsAtCompany'], bins=20, kde=True, color='green')\n",
    "plt.title('Distribution of Years at the company')\n",
    "plt.xlabel('Years At Company')\n",
    "plt.ylabel('Frequency')\n",
    "  #visualizing the distribution of the years at the company"
   ]
  },
  {
   "cell_type": "code",
   "execution_count": 26,
   "id": "0a260023-e826-465e-b409-eaf6573ce26c",
   "metadata": {},
   "outputs": [
    {
     "data": {
      "text/plain": [
       "Text(0, 0.5, 'Percentage')"
      ]
     },
     "execution_count": 26,
     "metadata": {},
     "output_type": "execute_result"
    },
    {
     "data": {
      "image/png": "[encoded data removed]",
      "text/plain": [
       "<Figure size 1000x500 with 1 Axes>"
      ]
     },
     "metadata": {},
     "output_type": "display_data"
    }
   ],
   "source": [
    "plt.figure(figsize=(10,5))\n",
    "sns.barplot(x=overtime_cou.index, y=overtime_cou.values)\n",
    "plt.title('Over time Trend')\n",
    "plt.xlabel('Over time')\n",
    "plt.ylabel('Percentage')\n"
   ]
  },
  {
   "cell_type": "code",
   "execution_count": 30,
   "id": "82e0d99c-501b-48cc-9af6-66631088515f",
   "metadata": {},
   "outputs": [
    {
     "name": "stdout",
     "output_type": "stream",
     "text": [
      "Attrition Rate: Attrition\n",
      "No     83.877551\n",
      "Yes    16.122449\n",
      "Name: proportion, dtype: float64\n"
     ]
    }
   ],
   "source": [
    "print(f'Attrition Rate: {attrition_rate}')   #16.12%employee have left the company,while 83.88% have stayed."
   ]
  },
  {
   "cell_type": "code",
   "execution_count": 31,
   "id": "f018c1a9-b20c-4c00-be91-d1435fe81567",
   "metadata": {},
   "outputs": [
    {
     "data": {
      "text/plain": [
       "3.1537414965986397"
      ]
     },
     "execution_count": 31,
     "metadata": {},
     "output_type": "execute_result"
    }
   ],
   "source": [
    "average_performance_rating   #the average performance rating is 3.15"
   ]
  },
  {
   "cell_type": "code",
   "execution_count": 32,
   "id": "5ef41b10-8be8-48d4-9829-5704c4ccecd3",
   "metadata": {},
   "outputs": [
    {
     "data": {
      "text/plain": [
       "count    1470.000000\n",
       "mean        7.008163\n",
       "std         6.126525\n",
       "min         0.000000\n",
       "25%         3.000000\n",
       "50%         5.000000\n",
       "75%         9.000000\n",
       "max        40.000000\n",
       "Name: YearsAtCompany, dtype: float64"
      ]
     },
     "execution_count": 32,
     "metadata": {},
     "output_type": "execute_result"
    }
   ],
   "source": [
    "year_at_com   #the calculation shows that average tenure in company is 7 years,half of the employees(50%) have been with company for 5 or less years.\n",
    "#highest tenure of employee with the company is 40 years."
   ]
  },
  {
   "cell_type": "code",
   "execution_count": 33,
   "id": "8a20193a-f5c8-455c-ba02-8570faa604d3",
   "metadata": {},
   "outputs": [
    {
     "data": {
      "text/plain": [
       "OverTime\n",
       "No     71.70068\n",
       "Yes    28.29932\n",
       "Name: proportion, dtype: float64"
      ]
     },
     "execution_count": 33,
     "metadata": {},
     "output_type": "execute_result"
    }
   ],
   "source": [
    "overtime_cou    #majority of the employee doesnt work overtime i.e 71.7% and 28.30%of the employee works overtime."
   ]
  },
  {
   "cell_type": "raw",
   "id": "5b24d56c-888e-49c7-85c7-7faa8ec29976",
   "metadata": {},
   "source": [
    "Identifying the BottleNecks and Areas for Optimization."
   ]
  },
  {
   "cell_type": "code",
   "execution_count": 45,
   "id": "d19c7b0c-e558-4d50-977f-893b518b84ad",
   "metadata": {},
   "outputs": [
    {
     "data": {
      "text/html": [
       "<div>\n",
       "<style scoped>\n",
       "    .dataframe tbody tr th:only-of-type {\n",
       "        vertical-align: middle;\n",
       "    }\n",
       "\n",
       "    .dataframe tbody tr th {\n",
       "        vertical-align: top;\n",
       "    }\n",
       "\n",
       "    .dataframe thead th {\n",
       "        text-align: right;\n",
       "    }\n",
       "</style>\n",
       "<table border=\"1\" class=\"dataframe\">\n",
       "  <thead>\n",
       "    <tr style=\"text-align: right;\">\n",
       "      <th>Attrition</th>\n",
       "      <th>No</th>\n",
       "      <th>Yes</th>\n",
       "    </tr>\n",
       "    <tr>\n",
       "      <th>OverTime</th>\n",
       "      <th></th>\n",
       "      <th></th>\n",
       "    </tr>\n",
       "  </thead>\n",
       "  <tbody>\n",
       "    <tr>\n",
       "      <th>No</th>\n",
       "      <td>89.563567</td>\n",
       "      <td>10.436433</td>\n",
       "    </tr>\n",
       "    <tr>\n",
       "      <th>Yes</th>\n",
       "      <td>69.471154</td>\n",
       "      <td>30.528846</td>\n",
       "    </tr>\n",
       "  </tbody>\n",
       "</table>\n",
       "</div>"
      ],
      "text/plain": [
       "Attrition         No        Yes\n",
       "OverTime                       \n",
       "No         89.563567  10.436433\n",
       "Yes        69.471154  30.528846"
      ]
     },
     "execution_count": 45,
     "metadata": {},
     "output_type": "execute_result"
    }
   ],
   "source": [
    "#correlation between overtime and attrition\n",
    "overtime_attrition_crosstab = pd.crosstab(df['OverTime'], df['Attrition'], normalize='index') * 100\n",
    "overtime_attrition_crosstab   #it is observed that employee who works overtime have the higher attrition rate i.e. 30.52% compared to who doesnt work overtime.\n"
   ]
  },
  {
   "cell_type": "code",
   "execution_count": 43,
   "id": "29538dda-420a-4246-8a10-ed98304a6269",
   "metadata": {},
   "outputs": [
    {
     "data": {
      "text/plain": [
       "Text(92.25, 0.5, 'Over Time')"
      ]
     },
     "execution_count": 43,
     "metadata": {},
     "output_type": "execute_result"
    },
    {
     "data": {
      "image/png": "[encoded data removed]",
      "text/plain": [
       "<Figure size 1000x500 with 2 Axes>"
      ]
     },
     "metadata": {},
     "output_type": "display_data"
    }
   ],
   "source": [
    "plt.figure(figsize=(10,5))\n",
    "sns.heatmap(overtime_attrition_crosstab, annot=True, cmap='viridis', fmt='.2f')\n",
    "plt.title('Correlation between Overtime and Attrition')\n",
    "plt.xlabel('Attrition')\n",
    "plt.ylabel('Over Time')"
   ]
  },
  {
   "cell_type": "code",
   "execution_count": 46,
   "id": "5fbda823-0e25-4792-a071-5096b35df406",
   "metadata": {},
   "outputs": [
    {
     "data": {
      "text/html": [
       "<div>\n",
       "<style scoped>\n",
       "    .dataframe tbody tr th:only-of-type {\n",
       "        vertical-align: middle;\n",
       "    }\n",
       "\n",
       "    .dataframe tbody tr th {\n",
       "        vertical-align: top;\n",
       "    }\n",
       "\n",
       "    .dataframe thead th {\n",
       "        text-align: right;\n",
       "    }\n",
       "</style>\n",
       "<table border=\"1\" class=\"dataframe\">\n",
       "  <thead>\n",
       "    <tr style=\"text-align: right;\">\n",
       "      <th>Attrition</th>\n",
       "      <th>No</th>\n",
       "      <th>Yes</th>\n",
       "    </tr>\n",
       "    <tr>\n",
       "      <th>PerformanceRating</th>\n",
       "      <th></th>\n",
       "      <th></th>\n",
       "    </tr>\n",
       "  </thead>\n",
       "  <tbody>\n",
       "    <tr>\n",
       "      <th>3</th>\n",
       "      <td>83.922830</td>\n",
       "      <td>16.077170</td>\n",
       "    </tr>\n",
       "    <tr>\n",
       "      <th>4</th>\n",
       "      <td>83.628319</td>\n",
       "      <td>16.371681</td>\n",
       "    </tr>\n",
       "  </tbody>\n",
       "</table>\n",
       "</div>"
      ],
      "text/plain": [
       "Attrition                 No        Yes\n",
       "PerformanceRating                      \n",
       "3                  83.922830  16.077170\n",
       "4                  83.628319  16.371681"
      ]
     },
     "execution_count": 46,
     "metadata": {},
     "output_type": "execute_result"
    }
   ],
   "source": [
    "#impact of performance ratings on attrition.\n",
    "performance_attrition_crosstab = pd.crosstab(df['PerformanceRating'], df['Attrition'], normalize='index')*100\n",
    "performance_attrition_crosstab   #employee with performance rating 3 and 4 have lower attirtion rate."
   ]
  },
  {
   "cell_type": "code",
   "execution_count": 52,
   "id": "83580d83-ad6c-47c6-b124-8570ae8ed7a7",
   "metadata": {},
   "outputs": [
    {
     "data": {
      "text/plain": [
       "Text(92.25, 0.5, 'Performance Rating')"
      ]
     },
     "execution_count": 52,
     "metadata": {},
     "output_type": "execute_result"
    },
    {
     "data": {
      "image/png": "[encoded data removed]",
      "text/plain": [
       "<Figure size 1000x800 with 2 Axes>"
      ]
     },
     "metadata": {},
     "output_type": "display_data"
    }
   ],
   "source": [
    "plt.figure(figsize=(10,8))\n",
    "sns.heatmap(performance_attrition_crosstab, annot=True, cmap='viridis', fmt='.2f')\n",
    "plt.title('Impact of performance Rating on Attrition')\n",
    "plt.xlabel('Attrition')\n",
    "plt.ylabel('Performance Rating')   #visualizing the correlation between performance rating and attrition"
   ]
  },
  {
   "cell_type": "code",
   "execution_count": 66,
   "id": "6dd04394-1e6d-447f-bc36-43df505d6bf3",
   "metadata": {},
   "outputs": [
    {
     "data": {
      "text/html": [
       "<div>\n",
       "<style scoped>\n",
       "    .dataframe tbody tr th:only-of-type {\n",
       "        vertical-align: middle;\n",
       "    }\n",
       "\n",
       "    .dataframe tbody tr th {\n",
       "        vertical-align: top;\n",
       "    }\n",
       "\n",
       "    .dataframe thead th {\n",
       "        text-align: right;\n",
       "    }\n",
       "</style>\n",
       "<table border=\"1\" class=\"dataframe\">\n",
       "  <thead>\n",
       "    <tr style=\"text-align: right;\">\n",
       "      <th>Attrition</th>\n",
       "      <th>No</th>\n",
       "      <th>Yes</th>\n",
       "    </tr>\n",
       "    <tr>\n",
       "      <th>JobRole</th>\n",
       "      <th></th>\n",
       "      <th></th>\n",
       "    </tr>\n",
       "  </thead>\n",
       "  <tbody>\n",
       "    <tr>\n",
       "      <th>Healthcare Representative</th>\n",
       "      <td>93.129771</td>\n",
       "      <td>6.870229</td>\n",
       "    </tr>\n",
       "    <tr>\n",
       "      <th>Human Resources</th>\n",
       "      <td>76.923077</td>\n",
       "      <td>23.076923</td>\n",
       "    </tr>\n",
       "    <tr>\n",
       "      <th>Laboratory Technician</th>\n",
       "      <td>76.061776</td>\n",
       "      <td>23.938224</td>\n",
       "    </tr>\n",
       "    <tr>\n",
       "      <th>Manager</th>\n",
       "      <td>95.098039</td>\n",
       "      <td>4.901961</td>\n",
       "    </tr>\n",
       "    <tr>\n",
       "      <th>Manufacturing Director</th>\n",
       "      <td>93.103448</td>\n",
       "      <td>6.896552</td>\n",
       "    </tr>\n",
       "    <tr>\n",
       "      <th>Research Director</th>\n",
       "      <td>97.500000</td>\n",
       "      <td>2.500000</td>\n",
       "    </tr>\n",
       "    <tr>\n",
       "      <th>Research Scientist</th>\n",
       "      <td>83.904110</td>\n",
       "      <td>16.095890</td>\n",
       "    </tr>\n",
       "    <tr>\n",
       "      <th>Sales Executive</th>\n",
       "      <td>82.515337</td>\n",
       "      <td>17.484663</td>\n",
       "    </tr>\n",
       "    <tr>\n",
       "      <th>Sales Representative</th>\n",
       "      <td>60.240964</td>\n",
       "      <td>39.759036</td>\n",
       "    </tr>\n",
       "  </tbody>\n",
       "</table>\n",
       "</div>"
      ],
      "text/plain": [
       "Attrition                         No        Yes\n",
       "JobRole                                        \n",
       "Healthcare Representative  93.129771   6.870229\n",
       "Human Resources            76.923077  23.076923\n",
       "Laboratory Technician      76.061776  23.938224\n",
       "Manager                    95.098039   4.901961\n",
       "Manufacturing Director     93.103448   6.896552\n",
       "Research Director          97.500000   2.500000\n",
       "Research Scientist         83.904110  16.095890\n",
       "Sales Executive            82.515337  17.484663\n",
       "Sales Representative       60.240964  39.759036"
      ]
     },
     "execution_count": 66,
     "metadata": {},
     "output_type": "execute_result"
    }
   ],
   "source": [
    "jobrole_attrition_crosstab = pd.crosstab(df['JobRole'], df['Attrition'], normalize='index')*100\n",
    "jobrole_attrition_crosstab   #job roles such as sales representative and laboratory technician have higher attrition rates."
   ]
  },
  {
   "cell_type": "code",
   "execution_count": 70,
   "id": "2a83eda1-2935-4791-ae67-e0bb8f9643a1",
   "metadata": {},
   "outputs": [
    {
     "data": {
      "text/html": [
       "<div>\n",
       "<style scoped>\n",
       "    .dataframe tbody tr th:only-of-type {\n",
       "        vertical-align: middle;\n",
       "    }\n",
       "\n",
       "    .dataframe tbody tr th {\n",
       "        vertical-align: top;\n",
       "    }\n",
       "\n",
       "    .dataframe thead th {\n",
       "        text-align: right;\n",
       "    }\n",
       "</style>\n",
       "<table border=\"1\" class=\"dataframe\">\n",
       "  <thead>\n",
       "    <tr style=\"text-align: right;\">\n",
       "      <th></th>\n",
       "      <th>count</th>\n",
       "      <th>mean</th>\n",
       "      <th>std</th>\n",
       "      <th>min</th>\n",
       "      <th>25%</th>\n",
       "      <th>50%</th>\n",
       "      <th>75%</th>\n",
       "      <th>max</th>\n",
       "    </tr>\n",
       "    <tr>\n",
       "      <th>Attrition</th>\n",
       "      <th></th>\n",
       "      <th></th>\n",
       "      <th></th>\n",
       "      <th></th>\n",
       "      <th></th>\n",
       "      <th></th>\n",
       "      <th></th>\n",
       "      <th></th>\n",
       "    </tr>\n",
       "  </thead>\n",
       "  <tbody>\n",
       "    <tr>\n",
       "      <th>No</th>\n",
       "      <td>1233.0</td>\n",
       "      <td>7.369019</td>\n",
       "      <td>6.096298</td>\n",
       "      <td>0.0</td>\n",
       "      <td>3.0</td>\n",
       "      <td>6.0</td>\n",
       "      <td>10.0</td>\n",
       "      <td>37.0</td>\n",
       "    </tr>\n",
       "    <tr>\n",
       "      <th>Yes</th>\n",
       "      <td>237.0</td>\n",
       "      <td>5.130802</td>\n",
       "      <td>5.949984</td>\n",
       "      <td>0.0</td>\n",
       "      <td>1.0</td>\n",
       "      <td>3.0</td>\n",
       "      <td>7.0</td>\n",
       "      <td>40.0</td>\n",
       "    </tr>\n",
       "  </tbody>\n",
       "</table>\n",
       "</div>"
      ],
      "text/plain": [
       "            count      mean       std  min  25%  50%   75%   max\n",
       "Attrition                                                       \n",
       "No         1233.0  7.369019  6.096298  0.0  3.0  6.0  10.0  37.0\n",
       "Yes         237.0  5.130802  5.949984  0.0  1.0  3.0   7.0  40.0"
      ]
     },
     "execution_count": 70,
     "metadata": {},
     "output_type": "execute_result"
    }
   ],
   "source": [
    "#correlation betweeen years at company and attirition.\n",
    "years_at_com_attrition = df.groupby('Attrition')['YearsAtCompany'].describe()\n",
    "years_at_com_attrition   # employees who have been at company for fewer years are more likely to leave at average of 5.13 years,"
   ]
  },
  {
   "cell_type": "raw",
   "id": "7e309cea-e3e5-41ca-990a-b4db8d707cfa",
   "metadata": {},
   "source": [
    "Proposing the improvements:\n",
    "1.Manage Overtime\n",
    "2.Job Role specific Strategies\n",
    "3.Onboarding and Early career Support"
   ]
  },
  {
   "cell_type": "code",
   "execution_count": null,
   "id": "ec6ee476-71fb-49ba-926a-df9e1bc1b978",
   "metadata": {},
   "outputs": [],
   "source": [
    "#Immplementation of the improvements."
   ]
  },
  {
   "cell_type": "code",
   "execution_count": 72,
   "id": "42656c70-4fbe-44b0-9088-e9d7ce166f10",
   "metadata": {},
   "outputs": [],
   "source": [
    "import pandas as pd\n",
    "data = pd.read_csv(r'C:\\Users\\Anusha\\Downloads\\WA_Fn-UseC_-HR-Employee-Attrition.csv')   "
   ]
  },
  {
   "cell_type": "code",
   "execution_count": 76,
   "id": "58d3d86e-49cf-4750-b3df-70568c95528a",
   "metadata": {},
   "outputs": [],
   "source": [
    "def risk_at_attrition(row):\n",
    "    if row['OverTime'] =='Yes' or row['PerformanceRating'] < 3 or row['YearsAtCompany'] <2:\n",
    "        return 'High Risk'\n",
    "    else:\n",
    "        return 'Low Risk'\n"
   ]
  },
  {
   "cell_type": "code",
   "execution_count": 81,
   "id": "4c12a6db-bfc4-455b-9fe7-9f43d7da6173",
   "metadata": {},
   "outputs": [
    {
     "name": "stdout",
     "output_type": "stream",
     "text": [
      "Data has been saved\n"
     ]
    }
   ],
   "source": [
    "data['Attrition Risk'] = data.apply(risk_at_attrition, axis=1)\n",
    "data.to_csv(r'C:\\Users\\Anusha\\Documents\\DS\\new_updated.csv', index=False)\n",
    "print('Data has been saved') \n",
    "#the program identifies the employee at risk of attrition based on overtime, performance rating and years at the company, and label them as High and low risk."
   ]
  },
  {
   "cell_type": "code",
   "execution_count": null,
   "id": "3b355650-4ce3-4d8f-9f00-5e96a487688a",
   "metadata": {},
   "outputs": [],
   "source": [
    "Step 6: Measure of Efficiency Gains"
   ]
  },
  {
   "cell_type": "code",
   "execution_count": 112,
   "id": "55766905-b817-41ed-b23f-2c4b60a9143b",
   "metadata": {},
   "outputs": [],
   "source": [
    "#Before improvement made\n",
    "attrition_rate_before = attrition_rate\n",
    "average_performance_rating_before = average_performance_rating\n",
    "overtime_cou_before = overtime_cou\n",
    "year_at_com_before = year_at_com "
   ]
  },
  {
   "cell_type": "code",
   "execution_count": null,
   "id": "e085d463-2172-4610-91a3-ce2cf0acb280",
   "metadata": {},
   "outputs": [],
   "source": [
    "#for simulating the post improvement metrics we will assume improvement in:\n",
    "1. 20% reduction in attrition rates\n",
    "2.10% increase in average performance ratings.\n",
    "3.15% decrease in overtime\n",
    "4. Little increase in average year at company."
   ]
  },
  {
   "cell_type": "code",
   "execution_count": 110,
   "id": "da622fb7-016a-4fe4-bc1d-0d4c894d3052",
   "metadata": {},
   "outputs": [],
   "source": [
    "attrition_rate_after = attrition_rate_before * 0.8"
   ]
  },
  {
   "cell_type": "code",
   "execution_count": 111,
   "id": "54c80217-a5a3-4813-aae8-16bc9b38cabb",
   "metadata": {},
   "outputs": [],
   "source": [
    "average_performance_after = average_performance_rating_before * 1.1\n",
    "overtime_cou_after = overtime_cou_before * 0.85\n",
    "year_at_com_after = year_at_com.copy()\n",
    "year_at_com_after['mean'] = year_at_com_before['mean'] + 0.5\n"
   ]
  },
  {
   "cell_type": "code",
   "execution_count": 113,
   "id": "a2fc33c7-a0e6-44b2-8fc9-037ac179906f",
   "metadata": {},
   "outputs": [
    {
     "data": {
      "text/plain": [
       "Attrition\n",
       "No     67.102041\n",
       "Yes    12.897959\n",
       "Name: proportion, dtype: float64"
      ]
     },
     "execution_count": 113,
     "metadata": {},
     "output_type": "execute_result"
    }
   ],
   "source": [
    "attrition_rate_after"
   ]
  },
  {
   "cell_type": "code",
   "execution_count": 114,
   "id": "7afdd87b-c9d0-4efb-ada6-30de6edf65d9",
   "metadata": {},
   "outputs": [
    {
     "data": {
      "text/plain": [
       "3.469115646258504"
      ]
     },
     "execution_count": 114,
     "metadata": {},
     "output_type": "execute_result"
    }
   ],
   "source": [
    "average_performance_after"
   ]
  },
  {
   "cell_type": "code",
   "execution_count": 115,
   "id": "064930d4-31cd-49ba-bd00-0a44397dfb7c",
   "metadata": {},
   "outputs": [
    {
     "data": {
      "text/plain": [
       "OverTime\n",
       "No     60.945578\n",
       "Yes    24.054422\n",
       "Name: proportion, dtype: float64"
      ]
     },
     "execution_count": 115,
     "metadata": {},
     "output_type": "execute_result"
    }
   ],
   "source": [
    "overtime_cou_after"
   ]
  },
  {
   "cell_type": "code",
   "execution_count": 116,
   "id": "4e3ff53e-8b5c-4ffa-8f2c-d2ba21af4669",
   "metadata": {},
   "outputs": [
    {
     "data": {
      "text/plain": [
       "count    1470.000000\n",
       "mean        7.508163\n",
       "std         6.126525\n",
       "min         0.000000\n",
       "25%         3.000000\n",
       "50%         5.000000\n",
       "75%         9.000000\n",
       "max        40.000000\n",
       "Name: YearsAtCompany, dtype: float64"
      ]
     },
     "execution_count": 116,
     "metadata": {},
     "output_type": "execute_result"
    }
   ],
   "source": [
    "year_at_com_after"
   ]
  },
  {
   "cell_type": "code",
   "execution_count": null,
   "id": "8acff7a3-89d0-483e-9f24-985b0679b514",
   "metadata": {},
   "outputs": [],
   "source": [
    "#Calculation of Efficiency Gain"
   ]
  },
  {
   "cell_type": "code",
   "execution_count": 109,
   "id": "c82ee32d-144b-4f1c-b51b-2e5696ad29e8",
   "metadata": {},
   "outputs": [
    {
     "data": {
      "text/plain": [
       "{'Reduction in Attrition Rate': Attrition\n",
       " No     16.77551\n",
       " Yes     3.22449\n",
       " Name: proportion, dtype: float64,\n",
       " 'Increase in Performance Rating': 0.3153741496598643,\n",
       " 'Reduction in overtime': OverTime\n",
       " No     10.755102\n",
       " Yes     4.244898\n",
       " Name: proportion, dtype: float64,\n",
       " 'Increase in Average year at Company': 0.5}"
      ]
     },
     "execution_count": 109,
     "metadata": {},
     "output_type": "execute_result"
    }
   ],
   "source": [
    "gain_efficiency = {\n",
    "    'Reduction in Attrition Rate': (attrition_rate_before - attrition_rate_after),\n",
    "    'Increase in Performance Rating': (average_performance_after - average_performance_rating_before),\n",
    "    'Reduction in overtime': (overtime_cou_before - overtime_cou_after),\n",
    "    'Increase in Average year at Company': (year_at_com_after['mean'] - year_at_com_before['mean'])\n",
    "}\n",
    "gain_efficiency"
   ]
  },
  {
   "cell_type": "code",
   "execution_count": null,
   "id": "4ac68452-e817-4335-b563-4a480bb849d7",
   "metadata": {},
   "outputs": [],
   "source": [
    "Measurement of Efficiency Gain"
   ]
  },
  {
   "cell_type": "code",
   "execution_count": null,
   "id": "199b9ef2-0b73-4909-8aea-4495b48b9bf7",
   "metadata": {},
   "outputs": [],
   "source": [
    "1.Attrition Rate: \n",
    "Before: 16.12\n",
    "After: 12.90\n",
    "Efficiency gain: 3.22%  reduction"
   ]
  },
  {
   "cell_type": "code",
   "execution_count": null,
   "id": "f1bfd348-bdf6-4a48-a591-646f0d7b345e",
   "metadata": {},
   "outputs": [],
   "source": [
    "2.Average Performance Rating:\n",
    "Before: 3.15\n",
    "After: 3.47\n",
    "Efficiency Gain: increase of 0.32 in performance rating"
   ]
  },
  {
   "cell_type": "code",
   "execution_count": null,
   "id": "153e1315-f648-4a64-a0d7-8eda73755287",
   "metadata": {},
   "outputs": [],
   "source": [
    "3.Distribution of years at company:\n",
    "Before: 7.01years\n",
    "After: 7.51years\n",
    "Efficiency gain: increase of 0.50 years in average terms."
   ]
  },
  {
   "cell_type": "code",
   "execution_count": null,
   "id": "5c3ccc14-8405-4657-a91b-5a6181bcc7a2",
   "metadata": {},
   "outputs": [],
   "source": [
    "4.Overtime trends:\n",
    "Before: 28.3% working overtime\n",
    "After: 24.05% working overtime\n",
    "Efficiency Gain: Reduction in 3.4 days in processing time"
   ]
  },
  {
   "cell_type": "code",
   "execution_count": null,
   "id": "f5723025-8392-4173-a474-aa21cd9238ab",
   "metadata": {},
   "outputs": [],
   "source": [
    "Conclusion: The Analysis of performance metrics identified key bottlenecks in the automated workflows related to high overtime, low performance ratings,\n",
    "specific job roles with high attrition rate,and early tenure prones to leave.The implementation of targeted improvement resulted in significant efficiency gains, including reduced attrition rates, improved performance ratings , decreased overtime, increased average tenure .These findings indicate that proposed optimizations have effectively streamlined workflow automation and improved overall efficiency."
   ]
  },
  {
   "cell_type": "code",
   "execution_count": null,
   "id": "d5f49f01-076d-47f1-a5b0-8ff61a251752",
   "metadata": {},
   "outputs": [],
   "source": []
  },
  {
   "cell_type": "code",
   "execution_count": null,
   "id": "60d1df7f-ad49-4714-8383-d6e3f96721cd",
   "metadata": {},
   "outputs": [],
   "source": []
  },
  {
   "cell_type": "code",
   "execution_count": null,
   "id": "668086ef-65de-422d-8fc0-c9b962ea6396",
   "metadata": {},
   "outputs": [],
   "source": []
  },
  {
   "cell_type": "code",
   "execution_count": null,
   "id": "237284fa-1985-4bb3-b3a5-395665aa4bb4",
   "metadata": {},
   "outputs": [],
   "source": []
  },
  {
   "cell_type": "code",
   "execution_count": null,
   "id": "c9e9e369-dedb-4afb-af7e-17ff266403a9",
   "metadata": {},
   "outputs": [],
   "source": []
  },
  {
   "cell_type": "code",
   "execution_count": null,
   "id": "fdc6f6da-5c93-4c0e-9108-fbcc26015aca",
   "metadata": {},
   "outputs": [],
   "source": []
  },
  {
   "cell_type": "code",
   "execution_count": null,
   "id": "a096b201-ae23-4085-8d28-fc1f73fda054",
   "metadata": {},
   "outputs": [],
   "source": []
  }
 ],
 "metadata": {
  "kernelspec": {
   "display_name": "Python 3 (ipykernel)",
   "language": "python",
   "name": "python3"
  },
  "language_info": {
   "codemirror_mode": {
    "name": "ipython",
    "version": 3
   },
   "file_extension": ".py",
   "mimetype": "text/x-python",
   "name": "python",
   "nbconvert_exporter": "python",
   "pygments_lexer": "ipython3",
   "version": "3.11.7"
  },
  "widgets": {
   "application/vnd.jupyter.widget-state+json": {
    "state": {},
    "version_major": 2,
    "version_minor": 0
   }
  }
 },
 "nbformat": 4,
 "nbformat_minor": 5
}
